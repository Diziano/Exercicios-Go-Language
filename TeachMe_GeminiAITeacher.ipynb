{
  "nbformat": 4,
  "nbformat_minor": 0,
  "metadata": {
    "colab": {
      "provenance": [],
      "authorship_tag": "ABX9TyP10l4Hthc9KjRkBu9AhoP4",
      "include_colab_link": true
    },
    "kernelspec": {
      "name": "python3",
      "display_name": "Python 3"
    },
    "language_info": {
      "name": "python"
    }
  },
  "cells": [
    {
      "cell_type": "markdown",
      "metadata": {
        "id": "view-in-github",
        "colab_type": "text"
      },
      "source": [
        "<a href=\"https://colab.research.google.com/github/Diziano/Exercicios-Go-Language/blob/master/TeachMe_GeminiAITeacher.ipynb\" target=\"_parent\"><img src=\"https://colab.research.google.com/assets/colab-badge.svg\" alt=\"Open In Colab\"/></a>"
      ]
    },
    {
      "cell_type": "code",
      "source": [
        "!pip install -q -U google-generativeai"
      ],
      "metadata": {
        "id": "E3eJP00M0aSS"
      },
      "execution_count": null,
      "outputs": []
    },
    {
      "cell_type": "code",
      "execution_count": 34,
      "metadata": {
        "colab": {
          "base_uri": "https://localhost:8080/",
          "height": 1000
        },
        "id": "pSclvk2UjTSI",
        "outputId": "768994cf-f2fa-49c3-8705-103fe7d0fff3"
      },
      "outputs": [
        {
          "output_type": "stream",
          "name": "stdout",
          "text": [
            "Custo de inglês!\n",
            "==================================================\n",
            "\n",
            "Exercício 1 - Leia o texto e escolha a alternativa correta:\n",
            "--------------------------------------------------\n",
            "\n",
            "**Texto:**\n",
            "\n",
            "Tom and Jerry were playing in the garden when it started to rain heavily. They quickly ran into the house and looked at each other, wondering what to do.\n",
            "\n",
            "\"Don't worry, Tom,\" said Jerry, \"we can still have fun inside. I have some board games in my room.\"\n",
            "\n",
            "Tom smiled and followed Jerry into the house.\n",
            "\n",
            "**Alternativas:**\n",
            "\n",
            "1. Tom and Jerry were playing inside when it started to rain.\n",
            "2. Tom and Jerry went inside to play board games.\n",
            "3. Tom suggested playing board games.\n",
            "4. They didn't have anything to do inside.\n",
            "5. It was sunny when Tom and Jerry started playing.\n",
            "Sua resposta: 1\n",
            "Resultado: Errou. Alternativa correta: 2 \n",
            "\n",
            "==================================================\n",
            "\n",
            "Exercício 2 - Traduza a frase:\n",
            "--------------------------------------------------\n",
            "\n",
            "We should always strive to improve our knowledge and understanding of the world around us.\n",
            "Sua resposta: 1\n",
            "Resultado: Errou.\n",
            "\n",
            "A tradução correta para a frase \"We should always strive to improve our knowledge and understanding of the world around us.\" é: \"Devemos sempre nos esforçar para melhorar nosso conhecimento e compreensão do mundo ao nosso redor.\" \n",
            "\n",
            "==================================================\n",
            "\n",
            "Exercício 3 - Traduza a frase:\n",
            "--------------------------------------------------\n",
            "\n",
            "O hábito de estudar diariamente é fundamental para o sucesso escolar.\n"
          ]
        },
        {
          "output_type": "error",
          "ename": "KeyboardInterrupt",
          "evalue": "Interrupted by user",
          "traceback": [
            "\u001b[0;31m---------------------------------------------------------------------------\u001b[0m",
            "\u001b[0;31mKeyboardInterrupt\u001b[0m                         Traceback (most recent call last)",
            "\u001b[0;32m<ipython-input-34-bec6e5746fec>\u001b[0m in \u001b[0;36m<cell line: 63>\u001b[0;34m()\u001b[0m\n\u001b[1;32m     68\u001b[0m     \u001b[0mgenerate_question_correct_option\u001b[0m\u001b[0;34m\u001b[0m\u001b[0;34m\u001b[0m\u001b[0m\n\u001b[1;32m     69\u001b[0m   ])\n\u001b[0;32m---> 70\u001b[0;31m   \u001b[0mrandom_question\u001b[0m\u001b[0;34m(\u001b[0m\u001b[0;34m)\u001b[0m\u001b[0;34m\u001b[0m\u001b[0;34m\u001b[0m\u001b[0m\n\u001b[0m\u001b[1;32m     71\u001b[0m   \u001b[0mquestion_number\u001b[0m\u001b[0;34m+=\u001b[0m\u001b[0;36m1\u001b[0m\u001b[0;34m\u001b[0m\u001b[0;34m\u001b[0m\u001b[0m\n\u001b[1;32m     72\u001b[0m \u001b[0;34m\u001b[0m\u001b[0m\n",
            "\u001b[0;32m<ipython-input-34-bec6e5746fec>\u001b[0m in \u001b[0;36mgenerate_question_translate_pt_en\u001b[0;34m()\u001b[0m\n\u001b[1;32m     44\u001b[0m \u001b[0;34m\u001b[0m\u001b[0m\n\u001b[1;32m     45\u001b[0m \u001b[0;32mdef\u001b[0m \u001b[0mgenerate_question_translate_pt_en\u001b[0m\u001b[0;34m(\u001b[0m\u001b[0;34m)\u001b[0m\u001b[0;34m:\u001b[0m\u001b[0;34m\u001b[0m\u001b[0;34m\u001b[0m\u001b[0m\n\u001b[0;32m---> 46\u001b[0;31m   \u001b[0mgenerate_question_translate\u001b[0m\u001b[0;34m(\u001b[0m\u001b[0;34m'português'\u001b[0m\u001b[0;34m,\u001b[0m \u001b[0;34m'inglês'\u001b[0m\u001b[0;34m)\u001b[0m\u001b[0;34m\u001b[0m\u001b[0;34m\u001b[0m\u001b[0m\n\u001b[0m\u001b[1;32m     47\u001b[0m \u001b[0;34m\u001b[0m\u001b[0m\n\u001b[1;32m     48\u001b[0m \u001b[0;32mdef\u001b[0m \u001b[0mgenerate_question_translate_en_pt\u001b[0m\u001b[0;34m(\u001b[0m\u001b[0;34m)\u001b[0m\u001b[0;34m:\u001b[0m\u001b[0;34m\u001b[0m\u001b[0;34m\u001b[0m\u001b[0m\n",
            "\u001b[0;32m<ipython-input-34-bec6e5746fec>\u001b[0m in \u001b[0;36mgenerate_question_translate\u001b[0;34m(a, b)\u001b[0m\n\u001b[1;32m     37\u001b[0m   \u001b[0mprint\u001b[0m\u001b[0;34m(\u001b[0m\u001b[0mquestion\u001b[0m\u001b[0;34m.\u001b[0m\u001b[0mtext\u001b[0m\u001b[0;34m)\u001b[0m\u001b[0;34m\u001b[0m\u001b[0;34m\u001b[0m\u001b[0m\n\u001b[1;32m     38\u001b[0m \u001b[0;34m\u001b[0m\u001b[0m\n\u001b[0;32m---> 39\u001b[0;31m   \u001b[0mprompt\u001b[0m \u001b[0;34m=\u001b[0m \u001b[0minput\u001b[0m\u001b[0;34m(\u001b[0m\u001b[0;34m'Sua resposta: '\u001b[0m\u001b[0;34m)\u001b[0m\u001b[0;34m\u001b[0m\u001b[0;34m\u001b[0m\u001b[0m\n\u001b[0m\u001b[1;32m     40\u001b[0m \u001b[0;34m\u001b[0m\u001b[0m\n\u001b[1;32m     41\u001b[0m   \u001b[0mresponse\u001b[0m \u001b[0;34m=\u001b[0m \u001b[0mchat\u001b[0m\u001b[0;34m.\u001b[0m\u001b[0msend_message\u001b[0m\u001b[0;34m(\u001b[0m\u001b[0;34mf'A resposta {prompt} é a tradução correta para a frase {question.text}? Responda apenas com as palavras Acertou e Errou. Somente se errou justifique.'\u001b[0m\u001b[0;34m)\u001b[0m\u001b[0;34m\u001b[0m\u001b[0;34m\u001b[0m\u001b[0m\n",
            "\u001b[0;32m/usr/local/lib/python3.10/dist-packages/ipykernel/kernelbase.py\u001b[0m in \u001b[0;36mraw_input\u001b[0;34m(self, prompt)\u001b[0m\n\u001b[1;32m    849\u001b[0m                 \u001b[0;34m\"raw_input was called, but this frontend does not support input requests.\"\u001b[0m\u001b[0;34m\u001b[0m\u001b[0;34m\u001b[0m\u001b[0m\n\u001b[1;32m    850\u001b[0m             )\n\u001b[0;32m--> 851\u001b[0;31m         return self._input_request(str(prompt),\n\u001b[0m\u001b[1;32m    852\u001b[0m             \u001b[0mself\u001b[0m\u001b[0;34m.\u001b[0m\u001b[0m_parent_ident\u001b[0m\u001b[0;34m,\u001b[0m\u001b[0;34m\u001b[0m\u001b[0;34m\u001b[0m\u001b[0m\n\u001b[1;32m    853\u001b[0m             \u001b[0mself\u001b[0m\u001b[0;34m.\u001b[0m\u001b[0m_parent_header\u001b[0m\u001b[0;34m,\u001b[0m\u001b[0;34m\u001b[0m\u001b[0;34m\u001b[0m\u001b[0m\n",
            "\u001b[0;32m/usr/local/lib/python3.10/dist-packages/ipykernel/kernelbase.py\u001b[0m in \u001b[0;36m_input_request\u001b[0;34m(self, prompt, ident, parent, password)\u001b[0m\n\u001b[1;32m    893\u001b[0m             \u001b[0;32mexcept\u001b[0m \u001b[0mKeyboardInterrupt\u001b[0m\u001b[0;34m:\u001b[0m\u001b[0;34m\u001b[0m\u001b[0;34m\u001b[0m\u001b[0m\n\u001b[1;32m    894\u001b[0m                 \u001b[0;31m# re-raise KeyboardInterrupt, to truncate traceback\u001b[0m\u001b[0;34m\u001b[0m\u001b[0;34m\u001b[0m\u001b[0m\n\u001b[0;32m--> 895\u001b[0;31m                 \u001b[0;32mraise\u001b[0m \u001b[0mKeyboardInterrupt\u001b[0m\u001b[0;34m(\u001b[0m\u001b[0;34m\"Interrupted by user\"\u001b[0m\u001b[0;34m)\u001b[0m \u001b[0;32mfrom\u001b[0m \u001b[0;32mNone\u001b[0m\u001b[0;34m\u001b[0m\u001b[0;34m\u001b[0m\u001b[0m\n\u001b[0m\u001b[1;32m    896\u001b[0m             \u001b[0;32mexcept\u001b[0m \u001b[0mException\u001b[0m \u001b[0;32mas\u001b[0m \u001b[0me\u001b[0m\u001b[0;34m:\u001b[0m\u001b[0;34m\u001b[0m\u001b[0;34m\u001b[0m\u001b[0m\n\u001b[1;32m    897\u001b[0m                 \u001b[0mself\u001b[0m\u001b[0;34m.\u001b[0m\u001b[0mlog\u001b[0m\u001b[0;34m.\u001b[0m\u001b[0mwarning\u001b[0m\u001b[0;34m(\u001b[0m\u001b[0;34m\"Invalid Message:\"\u001b[0m\u001b[0;34m,\u001b[0m \u001b[0mexc_info\u001b[0m\u001b[0;34m=\u001b[0m\u001b[0;32mTrue\u001b[0m\u001b[0;34m)\u001b[0m\u001b[0;34m\u001b[0m\u001b[0;34m\u001b[0m\u001b[0m\n",
            "\u001b[0;31mKeyboardInterrupt\u001b[0m: Interrupted by user"
          ]
        }
      ],
      "source": [
        "import google.generativeai as genai\n",
        "import random\n",
        "\n",
        "from google.colab import userdata\n",
        "api_key = userdata.get('SECRET_KEY')\n",
        "genai.configure(api_key=api_key)\n",
        "\n",
        "generation_config = {\n",
        "  \"candidate_count\": 1,\n",
        "  \"temperature\": 1,\n",
        "}\n",
        "\n",
        "safety_settings = {\n",
        "  'HATE': 'BLOCK_NONE',\n",
        "  'HARASSMENT': 'BLOCK_NONE',\n",
        "  'SEXUAL' : 'BLOCK_NONE',\n",
        "  'DANGEROUS' : 'BLOCK_NONE'\n",
        "}\n",
        "\n",
        "model = genai.GenerativeModel(model_name='gemini-1.0-pro', generation_config=generation_config, safety_settings=safety_settings,)\n",
        "\n",
        "\n",
        "chat = model.start_chat(history=[])\n",
        "prompt = ''\n",
        "question_number = 1;\n",
        "\n",
        "print(\"Custo de inglês!\")\n",
        "\n",
        "def generate_titles(title):\n",
        "  print('==================================================\\n')\n",
        "  print(f'Exercício {question_number} - {title}')\n",
        "  print('--------------------------------------------------\\n')\n",
        "\n",
        "def generate_question_translate(a, b):\n",
        "  generate_titles(\"Traduza a frase:\")\n",
        "  question = model.generate_content(f'Gere uma nova frase diferente da anterior, didática em {a} para um aluno traduzir para {b}. Não retorne a tradução em {b}.')\n",
        "  print(question.text)\n",
        "\n",
        "  prompt = input('Sua resposta: ')\n",
        "\n",
        "  response = chat.send_message(f'A resposta {prompt} é a tradução correta para a frase {question.text}? Responda apenas com as palavras Acertou e Errou. Somente se errou justifique.')\n",
        "\n",
        "  print(\"Resultado:\", response.text, '\\n')\n",
        "\n",
        "def generate_question_translate_pt_en():\n",
        "  generate_question_translate('português', 'inglês')\n",
        "\n",
        "def generate_question_translate_en_pt():\n",
        "  generate_question_translate('inglês', 'português')\n",
        "\n",
        "def generate_question_correct_option():\n",
        "  generate_titles(\"Leia o texto e escolha a alternativa correta:\")\n",
        "  question = model.generate_content(f'Gere um exercício de interpretação de texto para um aluno responder. Deve mostrar um texto de até 500 caracteres sendo alguma história, algum fato ou um diálogo entre pessoas em inglês. Abaixo do texto deve conter as alternativas de respostas que são afirmações sobre o texto. Entre as alternativas apenas uma é correta, mas não conte qual é. As alternativas devem ser numeradas.')\n",
        "  print(question.text)\n",
        "\n",
        "  prompt = input('Sua resposta: ')\n",
        "\n",
        "  response = chat.send_message(f'O aluno respondeu a alternativa {prompt}. Ele acertou? Responda apenas com as palavras Acertou ou Errou. Se errou retorne a alternativa que era correta.')\n",
        "\n",
        "  print(\"Resultado:\", response.text, '\\n')\n",
        "\n",
        "\n",
        "while prompt != \"fim\":\n",
        "\n",
        "  random_question = random.choice([\n",
        "    generate_question_translate_pt_en,\n",
        "    generate_question_translate_en_pt,\n",
        "    generate_question_correct_option\n",
        "  ])\n",
        "  random_question()\n",
        "  question_number+=1\n",
        ""
      ]
    }
  ]
}